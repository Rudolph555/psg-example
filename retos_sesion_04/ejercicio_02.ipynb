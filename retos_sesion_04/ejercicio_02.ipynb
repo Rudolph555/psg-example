{
 "cells": [
  {
   "cell_type": "markdown",
   "metadata": {},
   "source": [
    "Crea un archivo \"ejercicio_02.ipynb\", añade un texto markdown con la descripción del ejercicio \"2\" y crea una imagen utilizando símbolos y prints\n",
    "Símbolos: * - , () \\ | / _ \" ' = C"
   ]
  },
  {
   "cell_type": "code",
   "execution_count": 1,
   "metadata": {},
   "outputs": [
    {
     "name": "stdout",
     "output_type": "stream",
     "text": [
      "    /\\_/\\\n",
      "   / ' ' \\\n",
      "  =\\_____/=\n",
      "   ('-.-')\n"
     ]
    }
   ],
   "source": [
    "print(\"    /\\\\_/\\\\\")\n",
    "print(\"   / ' ' \\\\\")\n",
    "print(\"  =\\\\_____/=\")\n",
    "print(\"   ('-.-')\")"
   ]
  }
 ],
 "metadata": {
  "kernelspec": {
   "display_name": "Python 3",
   "language": "python",
   "name": "python3"
  },
  "language_info": {
   "codemirror_mode": {
    "name": "ipython",
    "version": 3
   },
   "file_extension": ".py",
   "mimetype": "text/x-python",
   "name": "python",
   "nbconvert_exporter": "python",
   "pygments_lexer": "ipython3",
   "version": "3.12.3"
  }
 },
 "nbformat": 4,
 "nbformat_minor": 2
}
