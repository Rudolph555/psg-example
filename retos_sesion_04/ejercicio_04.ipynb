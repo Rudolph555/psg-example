{
 "cells": [
  {
   "cell_type": "markdown",
   "metadata": {},
   "source": [
    "# Tres en Raya"
   ]
  },
  {
   "cell_type": "markdown",
   "metadata": {},
   "source": [
    "### El Tres en Raya es un juego de lógica y estrategia para dos jugadores, donde cada uno intenta formar una fila horizontal, vertical o diagonal de tres fichas del mismo símbolo en un tablero de 3x3 casillas."
   ]
  },
  {
   "cell_type": "markdown",
   "metadata": {},
   "source": [
    "## Reglas\n",
    "\n",
    "1. El juego comienza con un tablero vacío de 3x3 casillas.\n",
    "2. Los jugadores toman turnos para colocar su símbolo (X u O) en una casilla vacía del tablero.\n",
    "3. El primer jugador es X y el segundo jugador es O.\n",
    "4. El objetivo es formar una línea de 3 símbolos iguales (X u O) horizontal, vertical o diagonalmente.\n",
    "5. El juego termina cuando un jugador forma una línea de 3 símbolos iguales o cuando todas las casillas están ocupadas (empate).\n",
    "6. El jugador que logre formar una línea de 3 símbolos iguales primero, gana el juego."
   ]
  },
  {
   "cell_type": "code",
   "execution_count": 2,
   "metadata": {},
   "outputs": [
    {
     "name": "stdout",
     "output_type": "stream",
     "text": [
      "╔═══╦═══╦═══╗\n",
      "║   ║ X ║ O ║\n",
      "╠═══╬═══╬═══╣\n",
      "║ O ║ X ║   ║\n",
      "╠═══╬═══╬═══╣\n",
      "║ X ║ O ║ X ║\n",
      "╚═══╩═══╩═══╝\n"
     ]
    }
   ],
   "source": [
    "print(\"╔═══╦═══╦═══╗\")\n",
    "print(\"║   ║ X ║ O ║\")\n",
    "print(\"╠═══╬═══╬═══╣\")\n",
    "print(\"║ O ║ X ║   ║\")\n",
    "print(\"╠═══╬═══╬═══╣\")\n",
    "print(\"║ X ║ O ║ X ║\")\n",
    "print(\"╚═══╩═══╩═══╝\")"
   ]
  },
  {
   "cell_type": "markdown",
   "metadata": {},
   "source": [
    "### Descripción de las piezas\n",
    "**Piezas**\n",
    "Las piezas son los símbolos X y O. Cada jugador tiene un símbolo asignado al inicio del juego.\n",
    "\n",
    "- Jugador 1: X\n",
    "- Jugador 2: O\n"
   ]
  },
  {
   "cell_type": "code",
   "execution_count": 3,
   "metadata": {},
   "outputs": [
    {
     "name": "stdout",
     "output_type": "stream",
     "text": [
      "║ X ║\n",
      "║ O ║\n"
     ]
    }
   ],
   "source": [
    "print(\"║ X ║\")\n",
    "print(\"║ O ║\")"
   ]
  }
 ],
 "metadata": {
  "kernelspec": {
   "display_name": "Python 3",
   "language": "python",
   "name": "python3"
  },
  "language_info": {
   "codemirror_mode": {
    "name": "ipython",
    "version": 3
   },
   "file_extension": ".py",
   "mimetype": "text/x-python",
   "name": "python",
   "nbconvert_exporter": "python",
   "pygments_lexer": "ipython3",
   "version": "3.12.3"
  }
 },
 "nbformat": 4,
 "nbformat_minor": 2
}
